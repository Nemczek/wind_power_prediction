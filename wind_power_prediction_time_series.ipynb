{
 "cells": [
  {
   "cell_type": "markdown",
   "metadata": {},
   "source": [
    "# Wind Power Prediciotn using Time Series"
   ]
  },
  {
   "cell_type": "markdown",
   "metadata": {
    "vscode": {
     "languageId": "r"
    }
   },
   "source": [
    "\n",
    "<h1><center><a href=https://colab.research.google.com/github/Nemczek/wind_power_prediction/blob/main/wind_power_prediction_time_series.ipynb>Open in Colab!</a></center></h1>"
   ]
  },
  {
   "cell_type": "markdown",
   "metadata": {
    "vscode": {
     "languageId": "r"
    }
   },
   "source": [
    "<center><img src='windmills.jpg'></center>"
   ]
  },
  {
   "cell_type": "markdown",
   "metadata": {},
   "source": [
    "Continued prediction of Wind Power Generation data set using time series"
   ]
  },
  {
   "cell_type": "markdown",
   "metadata": {},
   "source": [
    "Note: You can run notebook directly in your browser by replacing .com with .dev in github link.\n",
    "Example: [https://github.dev/Nemczek/wind_power_prediction_time_series](https://github.dev/Nemczek/wind_power_prediction_time_series)"
   ]
  },
  {
   "cell_type": "markdown",
   "metadata": {},
   "source": [
    "## Packages "
   ]
  },
  {
   "cell_type": "code",
   "execution_count": null,
   "metadata": {
    "vscode": {
     "languageId": "r"
    }
   },
   "outputs": [],
   "source": [
    "# Run only once - installing packages. Needed to run notebook in browser\n",
    "install.packages(c(\"forecast\", \"tempdisagg\", \"tidyverse\"))"
   ]
  },
  {
   "cell_type": "code",
   "execution_count": null,
   "metadata": {
    "vscode": {
     "languageId": "r"
    }
   },
   "outputs": [],
   "source": [
    "library(forecast)\n",
    "library(tempdisagg)\n",
    "library(tidyverse)"
   ]
  },
  {
   "cell_type": "markdown",
   "metadata": {},
   "source": [
    "## Data loading and cleaning/prepering "
   ]
  },
  {
   "cell_type": "code",
   "execution_count": 3,
   "metadata": {
    "vscode": {
     "languageId": "r"
    }
   },
   "outputs": [],
   "source": [
    "dane <- read.csv(\"https://raw.githubusercontent.com/Nemczek/wind_power_prediction/main/Location1.csv\")"
   ]
  },
  {
   "cell_type": "markdown",
   "metadata": {},
   "source": [
    "### Aggregate data into monthly data and load and split into test and teaching data"
   ]
  },
  {
   "cell_type": "code",
   "execution_count": null,
   "metadata": {
    "vscode": {
     "languageId": "r"
    }
   },
   "outputs": [],
   "source": [
    "dane$Time <- as.Date(dane$Time)\n",
    "dane$Miesiac <- format(dane$Time, \"%Y-%m\")\n",
    "\n",
    "dane.fan <- dane %>%\n",
    "  group_by(Miesiac) %>%\n",
    "  summarise(srednia_Power = mean(Power))\n",
    "\n",
    "dane.fan <- data.frame(dane.fan$srednia_Power)"
   ]
  },
  {
   "cell_type": "markdown",
   "metadata": {},
   "source": [
    "### Cleaning data and looking for Trend and seasonality"
   ]
  },
  {
   "cell_type": "code",
   "execution_count": null,
   "metadata": {
    "vscode": {
     "languageId": "r"
    }
   },
   "outputs": [],
   "source": [
    "\n",
    "fan <- ts(dane.fan, start = c(2017,1), frequency = 12)"
   ]
  },
  {
   "cell_type": "code",
   "execution_count": null,
   "metadata": {
    "vscode": {
     "languageId": "r"
    }
   },
   "outputs": [],
   "source": [
    "ts.plot(fan)"
   ]
  },
  {
   "cell_type": "code",
   "execution_count": null,
   "metadata": {
    "vscode": {
     "languageId": "r"
    }
   },
   "outputs": [],
   "source": [
    "monthplot(fan)"
   ]
  },
  {
   "cell_type": "code",
   "execution_count": null,
   "metadata": {
    "vscode": {
     "languageId": "r"
    }
   },
   "outputs": [],
   "source": [
    "seasonplot(fan, year.labels = T, col = 1:5)"
   ]
  },
  {
   "cell_type": "code",
   "execution_count": null,
   "metadata": {
    "vscode": {
     "languageId": "r"
    }
   },
   "outputs": [],
   "source": [
    "lag.plot(fan, do.lines = F, lags = 12) # There is T i S"
   ]
  },
  {
   "cell_type": "code",
   "execution_count": null,
   "metadata": {
    "vscode": {
     "languageId": "r"
    }
   },
   "outputs": [],
   "source": [
    "Acf(fan)"
   ]
  },
  {
   "cell_type": "code",
   "execution_count": null,
   "metadata": {
    "vscode": {
     "languageId": "r"
    }
   },
   "outputs": [],
   "source": [
    "Pacf(fan)"
   ]
  },
  {
   "cell_type": "code",
   "execution_count": null,
   "metadata": {
    "vscode": {
     "languageId": "r"
    }
   },
   "outputs": [],
   "source": [
    "tsoutliers(fan)\n",
    "fan[13] <- 0.4186132 # 20018-01 "
   ]
  },
  {
   "cell_type": "code",
   "execution_count": null,
   "metadata": {
    "vscode": {
     "languageId": "r"
    }
   },
   "outputs": [],
   "source": [
    "fan.ts <- window(fan, end = c(2020,12))"
   ]
  },
  {
   "cell_type": "code",
   "execution_count": null,
   "metadata": {
    "vscode": {
     "languageId": "r"
    }
   },
   "outputs": [],
   "source": [
    "ts.plot(fan.ts)"
   ]
  },
  {
   "cell_type": "code",
   "execution_count": null,
   "metadata": {
    "vscode": {
     "languageId": "r"
    }
   },
   "outputs": [],
   "source": [
    "monthplot(fan.ts)"
   ]
  },
  {
   "cell_type": "code",
   "execution_count": null,
   "metadata": {
    "vscode": {
     "languageId": "r"
    }
   },
   "outputs": [],
   "source": [
    "seasonplot(fan.ts, year.labels = T, col = rainbow(4))"
   ]
  },
  {
   "cell_type": "code",
   "execution_count": null,
   "metadata": {
    "vscode": {
     "languageId": "r"
    }
   },
   "outputs": [],
   "source": [
    "lag.plot(fan.ts, do.lines = F, lags = 12) # there is T i S"
   ]
  },
  {
   "cell_type": "code",
   "execution_count": null,
   "metadata": {
    "vscode": {
     "languageId": "r"
    }
   },
   "outputs": [],
   "source": [
    "\n",
    "Acf(fan.ts)"
   ]
  },
  {
   "cell_type": "code",
   "execution_count": null,
   "metadata": {
    "vscode": {
     "languageId": "r"
    }
   },
   "outputs": [],
   "source": [
    "\n",
    "Pacf(fan.ts)"
   ]
  },
  {
   "cell_type": "code",
   "execution_count": null,
   "metadata": {
    "vscode": {
     "languageId": "r"
    }
   },
   "outputs": [],
   "source": [
    "tsoutliers(fan.ts)\n",
    "fan[28] <- 0.3541302 # 2019-02"
   ]
  },
  {
   "cell_type": "code",
   "execution_count": null,
   "metadata": {
    "vscode": {
     "languageId": "r"
    }
   },
   "outputs": [],
   "source": [
    "fan.test <- window(fan, start = c(2021,1))\n",
    "tsoutliers(fan.test)\n",
    "rm(dane,dane.fan,fan)"
   ]
  },
  {
   "cell_type": "markdown",
   "metadata": {},
   "source": [
    "## Manual differentiation "
   ]
  },
  {
   "cell_type": "code",
   "execution_count": null,
   "metadata": {
    "vscode": {
     "languageId": "r"
    }
   },
   "outputs": [],
   "source": [
    "fan.ts.diff <- diff(fan.ts, lag = 12)\n",
    "ts.plot(fan.ts.diff)\n",
    "lag.plot(fan.ts.diff, do.lines = F, lags = 12)\n",
    "Acf(fan.ts.diff) #MA(3)\n",
    "Pacf(fan.ts.diff) #AR(3)"
   ]
  },
  {
   "cell_type": "markdown",
   "metadata": {},
   "source": [
    "### MA(3)"
   ]
  },
  {
   "cell_type": "code",
   "execution_count": null,
   "metadata": {
    "vscode": {
     "languageId": "r"
    }
   },
   "outputs": [],
   "source": [
    "model.MA3 <- Arima(y =fan.ts, order = c(0,0,3), seasonal = c(0,1,0))\n",
    "summary(model.MA3)\n",
    "\n",
    "coefs = model.MA3$coef\n",
    "coefs.sd = sqrt(diag(model.MA3$var.coef))\n",
    "ind = abs(coefs/(1.96*coefs.sd)) # ratio\n",
    "signif = which(ind >= 1 )\n",
    "temp.fixed = numeric(3)\n",
    "temp.fixed[signif] = NA\n",
    "model.MA3.signif = Arima( y = fan.ts, order = c(0,0,3), seasonal = c(0,1,0), fixed = temp.fixed )\n",
    "summary(model.MA3.signif) #No significant coefficients "
   ]
  },
  {
   "cell_type": "markdown",
   "metadata": {},
   "source": [
    "SARIMA(0,0,0)(0,1,0)[12] model can be done due to the non-significance of the MA(3) coefficient"
   ]
  },
  {
   "cell_type": "code",
   "execution_count": null,
   "metadata": {
    "vscode": {
     "languageId": "r"
    }
   },
   "outputs": [],
   "source": [
    "\n",
    "model.0 <- Arima(fan.ts, order = c(0,0,0), seasonal = c(0,1,0))\n",
    "summary(model.0)\n",
    "prog.model.0 <- forecast(model.0, h = 12)\n",
    "prog.model.0$mean\n",
    "ts.plot(prog.model.0$mean)\n",
    "plot(prog.model.0)\n",
    "lines(fan.test, col = \"red\")\n",
    "Acc0 <- accuracy(prog.model.0, fan.test)[,c(\"ME\",\"MAE\",\"MPE\",\n",
    "                                \"MAPE\", \"RMSE\", \"Theil's U\")]"
   ]
  },
  {
   "cell_type": "markdown",
   "metadata": {},
   "source": [
    "### AR(3)"
   ]
  },
  {
   "cell_type": "code",
   "execution_count": null,
   "metadata": {
    "vscode": {
     "languageId": "r"
    }
   },
   "outputs": [],
   "source": [
    "model.AR3 <- Arima(fan.ts, order = c(3,0,0), seasonal = c(0,1,0))\n",
    "summary(model.AR3)\n",
    "\n",
    "\n",
    "coefs = model.AR3$coef\n",
    "coefs.sd = sqrt(diag(model.AR3$var.coef))\n",
    "ind = abs(coefs/(1.96*coefs.sd)) # ratio\n",
    "signif = which(ind >= 1 )\n",
    "temp.fixed = numeric(3)\n",
    "temp.fixed[signif] = NA\n",
    "model.AR3.signif = Arima( y = fan.ts, order = c(3,0,0), seasonal = c(0,1,0), fixed = temp.fixed )\n",
    "summary(model.AR3.signif) ##significant coefficients: AR(3) "
   ]
  },
  {
   "cell_type": "markdown",
   "metadata": {},
   "source": [
    "Forecast"
   ]
  },
  {
   "cell_type": "code",
   "execution_count": null,
   "metadata": {
    "vscode": {
     "languageId": "r"
    }
   },
   "outputs": [],
   "source": [
    "prog.AR3 <- forecast(model.AR3.signif, h = 12)\n",
    "prog.AR3$mean\n",
    "ts.plot(prog.AR3$mean)\n",
    "plot(prog.AR3)\n",
    "lines(fan.test, col = \"red\")\n",
    "AccAR3 <- accuracy(prog.AR3, fan.test)[,c(\"ME\",\"MAE\",\"MPE\",\n",
    "                                          \"MAPE\", \"RMSE\", \"Theil's U\")]"
   ]
  },
  {
   "cell_type": "markdown",
   "metadata": {},
   "source": [
    "## AutoArima"
   ]
  },
  {
   "cell_type": "markdown",
   "metadata": {},
   "source": [
    "For comparison the auto.arima was used"
   ]
  },
  {
   "cell_type": "code",
   "execution_count": null,
   "metadata": {
    "vscode": {
     "languageId": "r"
    }
   },
   "outputs": [],
   "source": [
    "fan.ts.auto <- auto.arima(fan.ts)\n",
    "summary(fan.ts.auto) #ARIMA(0,0,0)(0,1,0)[12]#\n"
   ]
  },
  {
   "cell_type": "markdown",
   "metadata": {},
   "source": [
    "We got ARIMA(0,0,0)(0,1,0)[12] model"
   ]
  },
  {
   "cell_type": "markdown",
   "metadata": {},
   "source": [
    "Forecast for auto.arima model "
   ]
  },
  {
   "cell_type": "code",
   "execution_count": null,
   "metadata": {
    "vscode": {
     "languageId": "r"
    }
   },
   "outputs": [],
   "source": [
    "fan.prog.auto <- forecast(fan.ts.auto, h = 12)\n",
    "fan.prog.auto$mean\n",
    "ts.plot(fan.prog.auto$mean)\n",
    "plot(fan.prog.auto)\n",
    "lines(fan.test, col = \"red\")\n",
    "accuracy(fan.prog.auto, fan.test)[,c(\"ME\",\"MAE\",\"MPE\",\n",
    "                                     \"MAPE\", \"RMSE\", \"Theil's U\")]"
   ]
  },
  {
   "cell_type": "markdown",
   "metadata": {},
   "source": [
    "## Classical decomposition "
   ]
  },
  {
   "cell_type": "code",
   "execution_count": null,
   "metadata": {
    "vscode": {
     "languageId": "r"
    }
   },
   "outputs": [],
   "source": [
    "fan.decom <- decompose(fan.ts)\n",
    "plot(fan.decom)\n",
    "fan.decom.res <- fan.decom$random\n",
    "Acf(fan.decom.res) #MA(12)\n",
    "Pacf(fan.decom.res) #AR(2)\n"
   ]
  },
  {
   "cell_type": "markdown",
   "metadata": {},
   "source": [
    "### Models for classical decomposition"
   ]
  },
  {
   "cell_type": "code",
   "execution_count": null,
   "metadata": {
    "vscode": {
     "languageId": "r"
    }
   },
   "outputs": [],
   "source": [
    "model.decom.MA12 <- Arima(fan.ts, order = c(0,0,12), seasonal = c(0,1,0))\n",
    "summary(model.decom.MA12)"
   ]
  },
  {
   "cell_type": "code",
   "execution_count": null,
   "metadata": {
    "vscode": {
     "languageId": "r"
    }
   },
   "outputs": [],
   "source": [
    "model.decom.AR2 <- Arima(fan.ts, order = c(2,0,0), seasonal = c(0,1,0))\n",
    "summary(model.decom.AR2)"
   ]
  },
  {
   "cell_type": "markdown",
   "metadata": {},
   "source": [
    "#### MA(12)"
   ]
  },
  {
   "cell_type": "code",
   "execution_count": null,
   "metadata": {
    "vscode": {
     "languageId": "r"
    }
   },
   "outputs": [],
   "source": [
    "coefs = model.decom.MA12$coef\n",
    "coefs.sd = sqrt(diag(model.decom.MA12$var.coef))\n",
    "ind = abs(coefs/(1.96*coefs.sd)) # ratio\n",
    "signif = which(ind >= 1 )\n",
    "temp.fixed = numeric(12)\n",
    "temp.fixed[signif] = NA\n",
    "model.decom.1.signif = Arima( y = fan.ts, order = c(0,0,12), seasonal = c(0,1,0), fixed = temp.fixed )\n",
    "summary(model.decom.1.signif)# No significant coefficients"
   ]
  },
  {
   "cell_type": "markdown",
   "metadata": {},
   "source": [
    "model Identical to  SARIMA(0,0,0)(0,1,0)"
   ]
  },
  {
   "cell_type": "markdown",
   "metadata": {},
   "source": [
    "#### AR(2)"
   ]
  },
  {
   "cell_type": "code",
   "execution_count": null,
   "metadata": {
    "vscode": {
     "languageId": "r"
    }
   },
   "outputs": [],
   "source": [
    "\n",
    "#AR(2)\n",
    "coefs = model.decom.AR2$coef\n",
    "coefs.sd = sqrt(diag(model.decom.AR2$var.coef))\n",
    "ind = abs(coefs/(1.96*coefs.sd)) # ratio\n",
    "signif = which(ind >= 1 )\n",
    "temp.fixed = numeric(2)\n",
    "temp.fixed[signif] = NA\n",
    "model.decom.2.signif = Arima( y = fan.ts, order = c(2,0,0), seasonal = c(0,1,0), fixed = temp.fixed )\n",
    "summary(model.decom.2.signif)# No significant coefficients"
   ]
  },
  {
   "cell_type": "markdown",
   "metadata": {},
   "source": [
    "model Identical to  SARIMA(0,0,0)(0,1,0)"
   ]
  },
  {
   "cell_type": "markdown",
   "metadata": {},
   "source": [
    "## TSLM"
   ]
  },
  {
   "cell_type": "markdown",
   "metadata": {},
   "source": [
    "tslm can be done for comparison but after the classical decomposition you can see that the trend is not linear"
   ]
  },
  {
   "cell_type": "code",
   "execution_count": null,
   "metadata": {
    "vscode": {
     "languageId": "r"
    }
   },
   "outputs": [],
   "source": [
    "fan.tslm <- tslm(fan.ts ~ trend + season)\n",
    "fan.tslm.res <- fan.tslm$residuals \n",
    "ts.plot(fan.tslm.res)\n",
    "lag.plot(fan.tslm.res, do.lines = F, lags = 12)\n",
    "Acf(fan.tslm.res)#MA24\n",
    "Pacf(fan.tslm.res)\n",
    "prog.tslm <- forecast(fan.tslm, h = 12)\n",
    "ts.plot(prog.tslm$mean)"
   ]
  },
  {
   "cell_type": "markdown",
   "metadata": {},
   "source": [
    "differentiating tslm due to uncertainty in lag plot result #1 vs. trend "
   ]
  },
  {
   "cell_type": "code",
   "execution_count": null,
   "metadata": {
    "vscode": {
     "languageId": "r"
    }
   },
   "outputs": [],
   "source": [
    "fan.tslm.diff <- diff(fan.tslm.res)\n",
    "ts.plot(fan.tslm.diff)\n",
    "lag.plot(fan.tslm.diff, do.lines = F, lags = 12)\n",
    "Acf(fan.tslm.diff, lag=60) # MA(1)\n",
    "Pacf(fan.tslm.diff) # AR(2)"
   ]
  },
  {
   "cell_type": "markdown",
   "metadata": {},
   "source": [
    "### MA(1)"
   ]
  },
  {
   "cell_type": "code",
   "execution_count": null,
   "metadata": {
    "vscode": {
     "languageId": "r"
    }
   },
   "outputs": [],
   "source": [
    "model.res.MA1 = Arima(fan.tslm.res, order = c(0,1,1), seasonal = c(0,0,0))\n",
    "summary(model.res.MA1)\n",
    "coefs.tslm = model.res.MA1$coef\n",
    "coefs.sd.1 = sqrt(diag(model.res.MA1$var.coef))\n",
    "ind = abs(coefs.tslm/(1.96*coefs.sd.1)) # |ratio| \n",
    "signif.tsml = which(ind >=1)\n",
    "temp.fixed = numeric(1)\n",
    "temp.fixed[signif.tsml] = NA\n",
    "model.res.MA1.signif = Arima(fan.tslm.res, order = c(0,1,1), seasonal = c(0,0,0), fixed = temp.fixed)\n",
    "summary(model.res.MA1.signif)\n",
    "prognoza.tslm.MA1 = forecast(model.res.MA1.signif, h = 12) # Forcast for MA(1)"
   ]
  },
  {
   "cell_type": "markdown",
   "metadata": {},
   "source": [
    "### Forecast T + S + MA(1)"
   ]
  },
  {
   "cell_type": "code",
   "execution_count": null,
   "metadata": {
    "vscode": {
     "languageId": "r"
    }
   },
   "outputs": [],
   "source": [
    "\n",
    "prognoza.tslm.arima.MA1 = prog.tslm$mean + prognoza.tslm.MA1$mean\n",
    "ts.plot(prog.tslm$mean, prognoza.tslm.arima.MA1, col = c(\"red\",\"green\"))\n",
    "AcctslmMA1<- accuracy(prognoza.tslm.arima.MA1, fan.test)[,c(\"ME\",\"MAE\",\"MPE\",\n",
    "                                          \"MAPE\", \"RMSE\", \"Theil's U\")]"
   ]
  },
  {
   "cell_type": "markdown",
   "metadata": {},
   "source": [
    "### AR(2)"
   ]
  },
  {
   "cell_type": "code",
   "execution_count": null,
   "metadata": {
    "vscode": {
     "languageId": "r"
    }
   },
   "outputs": [],
   "source": [
    "model.res.AR2 = Arima(fan.tslm.res, order = c(2,1,0), seasonal = c(0,0,0))\n",
    "summary(model.res.AR2)\n",
    "coefs.tslm = model.res.AR2$coef\n",
    "coefs.sd.1 = sqrt(diag(model.res.AR2$var.coef))\n",
    "ind = abs(coefs.tslm/(1.96*coefs.sd.1)) # |ratio| \n",
    "signif.tsml = which(ind >=1)\n",
    "temp.fixed = numeric(2)\n",
    "temp.fixed[signif.tsml] = NA\n",
    "model.res.AR2.signif = Arima(fan.tslm.res, order = c(2,1,0), seasonal = c(0,0,0), fixed = temp.fixed)\n",
    "summary(model.res.AR2.signif)\n",
    "prognoza.tslm.AR2 = forecast(model.res.AR2.signif, h = 12) # Forecast for AR(2)"
   ]
  },
  {
   "cell_type": "markdown",
   "metadata": {},
   "source": [
    "### Forecast T + S + AR(2)"
   ]
  },
  {
   "cell_type": "code",
   "execution_count": null,
   "metadata": {
    "vscode": {
     "languageId": "r"
    }
   },
   "outputs": [],
   "source": [
    "prognoza.tslm.arima.AR2 = prog.tslm$mean + prognoza.tslm.AR2$mean\n",
    "ts.plot(prog.tslm$mean, prognoza.tslm.arima.AR2,fan.test, col = c(\"red\",\"green\",\"blue\"))\n",
    "AcctslmAR2 <- accuracy(prognoza.tslm.arima.AR2, fan.test)[,c(\"ME\",\"MAE\",\"MPE\",\n",
    "                                               \"MAPE\", \"RMSE\", \"Theil's U\")]\n"
   ]
  },
  {
   "cell_type": "markdown",
   "metadata": {},
   "source": [
    "## Holt-Winters Metode "
   ]
  },
  {
   "cell_type": "code",
   "execution_count": null,
   "metadata": {
    "vscode": {
     "languageId": "r"
    }
   },
   "outputs": [],
   "source": [
    "prog.hw <- hw(fan.ts, h = 12)\n",
    "summary(prog.hw)\n",
    "plot(prog.hw)\n",
    "lines(fan.test, col = \"red\")\n",
    "AccHW <- accuracy(prog.hw, fan.test)[,c(\"ME\",\"MAE\",\"MPE\",\n",
    "                               \"MAPE\", \"RMSE\", \"Theil's U\")]"
   ]
  },
  {
   "cell_type": "markdown",
   "metadata": {},
   "source": [
    "## Forecast Plot"
   ]
  },
  {
   "cell_type": "code",
   "execution_count": null,
   "metadata": {
    "vscode": {
     "languageId": "r"
    }
   },
   "outputs": [],
   "source": [
    "\n",
    "ts.plot(prog.hw$mean,prognoza.tslm.arima.AR2,\n",
    "        prog.model.0$mean, prog.AR3$mean,fan.test,\n",
    "     col = rainbow(5))\n",
    "legend(\"bottomleft\",lwd = 2, text.width = 0.3, cex = 0.55,\n",
    "       legend = c(\"H-W\", \"T+S+AR(2)\", \"SARIMA(0,0,0)(0,1,0)[12]\"\n",
    "                  ,\"SARIMA(3,0,0)(0,1,0)[12]\",\"Rzeczywista\"), col = rainbow(5))"
   ]
  },
  {
   "cell_type": "markdown",
   "metadata": {},
   "source": [
    "## AIC, AICc, BIC comparison"
   ]
  },
  {
   "cell_type": "code",
   "execution_count": null,
   "metadata": {
    "vscode": {
     "languageId": "r"
    }
   },
   "outputs": [],
   "source": [
    "models <- list(\n",
    "  Arima = model.0,\n",
    "  AR3 = model.AR3.signif,\n",
    "  tslmAR2 = model.res.AR2.signif\n",
    ")\n",
    "\n",
    "\n",
    "get_ic_values <- function(model) {\n",
    "  return(c(model$aic, model$aicc, model$bic))\n",
    "}\n",
    "\n",
    "\n",
    "results_df <- data.frame(Model = names(models), matrix(NA, nrow = length(models), ncol = 3))\n",
    "colnames(results_df)[2:4] <- c(\"AIC\", \"AICc\", \"BIC\")\n",
    "\n",
    "for (i in seq_along(models)) {\n",
    "  results_df[i, 2:4] <- get_ic_values(models[[i]])\n",
    "}\n",
    "results_df[4,c(\"Model\",\"AIC\",\"AICc\",\"BIC\")] <- c(\"HW\",-98.61202, -78.21202, -66.80161)\n",
    "print(results_df)"
   ]
  },
  {
   "cell_type": "markdown",
   "metadata": {},
   "source": [
    "## Comparison of errors"
   ]
  },
  {
   "cell_type": "code",
   "execution_count": null,
   "metadata": {
    "vscode": {
     "languageId": "r"
    }
   },
   "outputs": [],
   "source": [
    "Acc0 <- as.data.frame(Acc0)\n",
    "AccAR3 <- as.data.frame(AccAR3)\n",
    "AccHW <- as.data.frame(AccHW)\n",
    "\n",
    "acc_df <- rbind(Acc0,AccAR3, AccHW, AcctslmAR2)\n",
    "\n",
    "acc_df <- cbind(acc_df, c(\"Arima\",\"Arima\",\"AR3\",\"AR3\",\"HW\",\"HW\",\"AR2\"))\n",
    "d <- \"Training Set3\"\n",
    "rownames(acc_df)[length(rownames(acc_df))] <- d\n",
    "colnames(acc_df)[length(colnames(acc_df))] <- \"Modele\""
   ]
  },
  {
   "cell_type": "markdown",
   "metadata": {},
   "source": [
    "## Conclusions"
   ]
  },
  {
   "cell_type": "markdown",
   "metadata": {},
   "source": [
    "The results of the models and estimation were not clear enough to determine whether any model emerges as the best fit for predicting the values of our data, but a few models can be identified that seemed to be close to the actual values. The SARIMA(0,0,0)(0,1,0) model[12] was confirmed by auto.arime, and by classical decomposition, and had most of the smallest errors. The T+S+AR(2) model was the best fit in the AIC, AICc and BIC criteria but had some of the larger prediction errors for learners. The SARIMA(3,0,0)(0,1,0)[12] model appeared to be centered between the two models mentioned above. In terms of performance prediction, all three models did fairly well. The Holt-Winters method performed the worst."
   ]
  }
 ],
 "metadata": {
  "kernelspec": {
   "display_name": "R",
   "language": "R",
   "name": "ir"
  },
  "language_info": {
   "codemirror_mode": "r",
   "file_extension": ".r",
   "mimetype": "text/x-r-source",
   "name": "R",
   "pygments_lexer": "r",
   "version": "4.4.0"
  }
 },
 "nbformat": 4,
 "nbformat_minor": 2
}
