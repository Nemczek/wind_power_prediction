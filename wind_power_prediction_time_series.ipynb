{
 "cells": [
  {
   "cell_type": "markdown",
   "metadata": {},
   "source": [
    "# Wind Power Prediciotn using Time Series"
   ]
  },
  {
   "cell_type": "markdown",
   "metadata": {
    "vscode": {
     "languageId": "r"
    }
   },
   "source": [
    "\n",
    "<h1><center><a href=https://colab.research.google.com/github/Nemczek/wind_power_prediction/blob/main/wind_power_prediction_time_series.ipynb>Open in Colab!</a></center></h1>"
   ]
  },
  {
   "cell_type": "markdown",
   "metadata": {
    "vscode": {
     "languageId": "r"
    }
   },
   "source": [
    "<center><img src='windmills.jpg'></center>"
   ]
  },
  {
   "cell_type": "markdown",
   "metadata": {},
   "source": [
    "Continued prediction of Wind Power Generation data set using time series"
   ]
  },
  {
   "cell_type": "markdown",
   "metadata": {},
   "source": [
    "Note: You can run notebook directly in your browser by replacing .com with .dev in github link.\n",
    "Example: [https://github.dev/Nemczek/wind_power_prediction](https://github.dev/Nemczek/wind_power_prediction_time_series)"
   ]
  },
  {
   "cell_type": "markdown",
   "metadata": {},
   "source": [
    "## Packages "
   ]
  },
  {
   "cell_type": "code",
   "execution_count": null,
   "metadata": {
    "vscode": {
     "languageId": "r"
    }
   },
   "outputs": [],
   "source": [
    "# Run only once - installing packages. Needed to run notebook in browser\n",
    "install.packages(c(\"forecast\", \"tempdisagg\", \"tidyverse\"))"
   ]
  },
  {
   "cell_type": "code",
   "execution_count": null,
   "metadata": {
    "vscode": {
     "languageId": "r"
    }
   },
   "outputs": [],
   "source": [
    "library(forecast)\n",
    "library(tempdisagg)\n",
    "library(tidyverse)"
   ]
  },
  {
   "cell_type": "markdown",
   "metadata": {},
   "source": [
    "## Data loading and cleaning/prepering "
   ]
  },
  {
   "cell_type": "code",
   "execution_count": null,
   "metadata": {
    "vscode": {
     "languageId": "r"
    }
   },
   "outputs": [],
   "source": [
    "dane <- read.csv(\"Location1.csv\")"
   ]
  },
  {
   "cell_type": "markdown",
   "metadata": {},
   "source": [
    "### Aggregate data into monthly data and load and split into test and teaching data"
   ]
  },
  {
   "cell_type": "code",
   "execution_count": null,
   "metadata": {
    "vscode": {
     "languageId": "r"
    }
   },
   "outputs": [],
   "source": [
    "dane$Time <- as.Date(dane$Time)\n",
    "dane$Miesiac <- format(dane$Time, \"%Y-%m\")\n",
    "\n",
    "dane.fan <- dane %>%\n",
    "  group_by(Miesiac) %>%\n",
    "  summarise(srednia_Power = mean(Power))\n",
    "\n",
    "dane.fan <- data.frame(dane.fan$srednia_Power)"
   ]
  },
  {
   "cell_type": "markdown",
   "metadata": {},
   "source": [
    "### Cleaning data and looking for Trend and seasonality"
   ]
  },
  {
   "cell_type": "code",
   "execution_count": null,
   "metadata": {
    "vscode": {
     "languageId": "r"
    }
   },
   "outputs": [],
   "source": [
    "\n",
    "fan <- ts(dane.fan, start = c(2017,1), frequency = 12)\n",
    "ts.plot(fan)\n",
    "monthplot(fan)\n",
    "seasonplot(fan, year.labels = T, col = 1:5)\n",
    "lag.plot(fan, do.lines = F, lags = 12) # There is T i S\n",
    "Acf(fan)\n",
    "Pacf(fan)\n",
    "tsoutliers(fan)\n",
    "fan[13] <- 0.4186132 # 20018-01 \n",
    "\n",
    "\n",
    "fan.ts <- window(fan, end = c(2020,12))\n",
    "ts.plot(fan.ts)\n",
    "monthplot(fan.ts)\n",
    "seasonplot(fan.ts, year.labels = T, col = rainbow(4))\n",
    "lag.plot(fan.ts, do.lines = F, lags = 12) # there is T i S\n",
    "Acf(fan.ts)\n",
    "Pacf(fan.ts)\n",
    "tsoutliers(fan.ts)\n",
    "fan[28] <- 0.3541302 # 2019-02\n",
    "\n",
    "\n",
    "fan.test <- window(fan, start = c(2021,1))\n",
    "tsoutliers(fan.test)\n",
    "\n",
    "rm(dane,dane.fan,fan)"
   ]
  },
  {
   "cell_type": "markdown",
   "metadata": {},
   "source": [
    "## Manual differentiation "
   ]
  },
  {
   "cell_type": "code",
   "execution_count": null,
   "metadata": {
    "vscode": {
     "languageId": "r"
    }
   },
   "outputs": [],
   "source": [
    "fan.ts.diff <- diff(fan.ts, lag = 12)\n",
    "ts.plot(fan.ts.diff)\n",
    "lag.plot(fan.ts.diff, do.lines = F, lags = 12)\n",
    "Acf(fan.ts.diff) #MA(3)\n",
    "Pacf(fan.ts.diff) #AR(3)"
   ]
  },
  {
   "cell_type": "markdown",
   "metadata": {},
   "source": [
    "### MA(3)"
   ]
  },
  {
   "cell_type": "code",
   "execution_count": null,
   "metadata": {
    "vscode": {
     "languageId": "r"
    }
   },
   "outputs": [],
   "source": [
    "model.MA3 <- Arima(y =fan.ts, order = c(0,0,3), seasonal = c(0,1,0))\n",
    "summary(model.MA3)\n",
    "\n",
    "coefs = model.MA3$coef\n",
    "coefs.sd = sqrt(diag(model.MA3$var.coef))\n",
    "ind = abs(coefs/(1.96*coefs.sd)) # ratio\n",
    "signif = which(ind >= 1 )\n",
    "temp.fixed = numeric(3)\n",
    "temp.fixed[signif] = NA\n",
    "model.MA3.signif = Arima( y = fan.ts, order = c(0,0,3), seasonal = c(0,1,0), fixed = temp.fixed )\n",
    "summary(model.MA3.signif) #No significant coefficients "
   ]
  },
  {
   "cell_type": "markdown",
   "metadata": {},
   "source": [
    "SARIMA(0,0,0)(0,1,0)[12] model can be done due to the non-significance of the MA(3) coefficient"
   ]
  },
  {
   "cell_type": "code",
   "execution_count": null,
   "metadata": {
    "vscode": {
     "languageId": "r"
    }
   },
   "outputs": [],
   "source": [
    "\n",
    "model.0 <- Arima(fan.ts, order = c(0,0,0), seasonal = c(0,1,0))\n",
    "summary(model.0)\n",
    "prog.model.0 <- forecast(model.0, h = 12)\n",
    "prog.model.0$mean\n",
    "ts.plot(prog.model.0$mean)\n",
    "plot(prog.model.0)\n",
    "lines(fan.test, col = \"red\")\n",
    "Acc0 <- accuracy(prog.model.0, fan.test)[,c(\"ME\",\"MAE\",\"MPE\",\n",
    "                                \"MAPE\", \"RMSE\", \"Theil's U\")]"
   ]
  },
  {
   "cell_type": "markdown",
   "metadata": {},
   "source": [
    "### AR(3)"
   ]
  },
  {
   "cell_type": "code",
   "execution_count": null,
   "metadata": {
    "vscode": {
     "languageId": "r"
    }
   },
   "outputs": [],
   "source": [
    "model.AR3 <- Arima(fan.ts, order = c(3,0,0), seasonal = c(0,1,0))\n",
    "summary(model.AR3)\n",
    "\n",
    "\n",
    "coefs = model.AR3$coef\n",
    "coefs.sd = sqrt(diag(model.AR3$var.coef))\n",
    "ind = abs(coefs/(1.96*coefs.sd)) # ratio\n",
    "signif = which(ind >= 1 )\n",
    "temp.fixed = numeric(3)\n",
    "temp.fixed[signif] = NA\n",
    "model.AR3.signif = Arima( y = fan.ts, order = c(3,0,0), seasonal = c(0,1,0), fixed = temp.fixed )\n",
    "summary(model.AR3.signif) ##significant coefficients: AR(3) "
   ]
  },
  {
   "cell_type": "markdown",
   "metadata": {},
   "source": [
    "Forecast"
   ]
  },
  {
   "cell_type": "code",
   "execution_count": null,
   "metadata": {
    "vscode": {
     "languageId": "r"
    }
   },
   "outputs": [],
   "source": [
    "prog.AR3 <- forecast(model.AR3.signif, h = 12)\n",
    "prog.AR3$mean\n",
    "ts.plot(prog.AR3$mean)\n",
    "plot(prog.AR3)\n",
    "lines(fan.test, col = \"red\")\n",
    "AccAR3 <- accuracy(prog.AR3, fan.test)[,c(\"ME\",\"MAE\",\"MPE\",\n",
    "                                          \"MAPE\", \"RMSE\", \"Theil's U\")]"
   ]
  },
  {
   "cell_type": "markdown",
   "metadata": {},
   "source": [
    "## AutoArima"
   ]
  },
  {
   "cell_type": "markdown",
   "metadata": {},
   "source": [
    "For comparison the auto.arima was used"
   ]
  },
  {
   "cell_type": "code",
   "execution_count": null,
   "metadata": {
    "vscode": {
     "languageId": "r"
    }
   },
   "outputs": [],
   "source": [
    "fan.ts.auto <- auto.arima(fan.ts)\n",
    "summary(fan.ts.auto) #ARIMA(0,0,0)(0,1,0)[12]#\n"
   ]
  },
  {
   "cell_type": "markdown",
   "metadata": {},
   "source": [
    "We got ARIMA(0,0,0)(0,1,0)[12] model"
   ]
  },
  {
   "cell_type": "markdown",
   "metadata": {},
   "source": [
    "Forecast for auto.arima model "
   ]
  },
  {
   "cell_type": "code",
   "execution_count": null,
   "metadata": {
    "vscode": {
     "languageId": "r"
    }
   },
   "outputs": [],
   "source": [
    "fan.prog.auto <- forecast(fan.ts.auto, h = 12)\n",
    "fan.prog.auto$mean\n",
    "ts.plot(fan.prog.auto$mean)\n",
    "plot(fan.prog.auto)\n",
    "lines(fan.test, col = \"red\")\n",
    "accuracy(fan.prog.auto, fan.test)[,c(\"ME\",\"MAE\",\"MPE\",\n",
    "                                     \"MAPE\", \"RMSE\", \"Theil's U\")]"
   ]
  },
  {
   "cell_type": "markdown",
   "metadata": {},
   "source": [
    "## Classical decomposition "
   ]
  },
  {
   "cell_type": "code",
   "execution_count": null,
   "metadata": {
    "vscode": {
     "languageId": "r"
    }
   },
   "outputs": [],
   "source": [
    "fan.decom <- decompose(fan.ts)\n",
    "plot(fan.decom)\n",
    "fan.decom.res <- fan.decom$random\n",
    "Acf(fan.decom.res) #MA(12)\n",
    "Pacf(fan.decom.res) #AR(2)\n"
   ]
  },
  {
   "cell_type": "markdown",
   "metadata": {},
   "source": [
    "### Models for classical decomposition"
   ]
  },
  {
   "cell_type": "code",
   "execution_count": null,
   "metadata": {
    "vscode": {
     "languageId": "r"
    }
   },
   "outputs": [],
   "source": [
    "model.decom.MA12 <- Arima(fan.ts, order = c(0,0,12), seasonal = c(0,1,0))\n",
    "summary(model.decom.MA12)"
   ]
  },
  {
   "cell_type": "code",
   "execution_count": null,
   "metadata": {
    "vscode": {
     "languageId": "r"
    }
   },
   "outputs": [],
   "source": [
    "model.decom.AR2 <- Arima(fan.ts, order = c(2,0,0), seasonal = c(0,1,0))\n",
    "summary(model.decom.AR2)"
   ]
  },
  {
   "cell_type": "markdown",
   "metadata": {},
   "source": [
    "#### MA(12)"
   ]
  },
  {
   "cell_type": "code",
   "execution_count": null,
   "metadata": {
    "vscode": {
     "languageId": "r"
    }
   },
   "outputs": [],
   "source": [
    "coefs = model.decom.MA12$coef\n",
    "coefs.sd = sqrt(diag(model.decom.MA12$var.coef))\n",
    "ind = abs(coefs/(1.96*coefs.sd)) # ratio\n",
    "signif = which(ind >= 1 )\n",
    "temp.fixed = numeric(12)\n",
    "temp.fixed[signif] = NA\n",
    "model.decom.1.signif = Arima( y = fan.ts, order = c(0,0,12), seasonal = c(0,1,0), fixed = temp.fixed )\n",
    "summary(model.decom.1.signif)# No significant coefficients"
   ]
  },
  {
   "cell_type": "markdown",
   "metadata": {},
   "source": [
    "model Identical to  SARIMA(0,0,0)(0,1,0)"
   ]
  },
  {
   "cell_type": "markdown",
   "metadata": {},
   "source": [
    "#### AR(2)"
   ]
  },
  {
   "cell_type": "code",
   "execution_count": null,
   "metadata": {
    "vscode": {
     "languageId": "r"
    }
   },
   "outputs": [],
   "source": [
    "\n",
    "#AR(2)\n",
    "coefs = model.decom.AR2$coef\n",
    "coefs.sd = sqrt(diag(model.decom.AR2$var.coef))\n",
    "ind = abs(coefs/(1.96*coefs.sd)) # ratio\n",
    "signif = which(ind >= 1 )\n",
    "temp.fixed = numeric(2)\n",
    "temp.fixed[signif] = NA\n",
    "model.decom.2.signif = Arima( y = fan.ts, order = c(2,0,0), seasonal = c(0,1,0), fixed = temp.fixed )\n",
    "summary(model.decom.2.signif)# No significant coefficients"
   ]
  },
  {
   "cell_type": "markdown",
   "metadata": {},
   "source": [
    "model Identical to  SARIMA(0,0,0)(0,1,0)"
   ]
  }
 ],
 "metadata": {
  "kernelspec": {
   "display_name": "R",
   "language": "R",
   "name": "ir"
  },
  "language_info": {
   "codemirror_mode": "r",
   "file_extension": ".r",
   "mimetype": "text/x-r-source",
   "name": "R",
   "pygments_lexer": "r",
   "version": "4.4.0"
  }
 },
 "nbformat": 4,
 "nbformat_minor": 2
}
